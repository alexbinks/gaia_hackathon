{
 "cells": [
  {
   "cell_type": "markdown",
   "id": "1cc6eea8",
   "metadata": {},
   "source": [
    "# MIT Gaia DR3 Hackathon: Testing isochronal models with star clusters"
   ]
  },
  {
   "cell_type": "markdown",
   "id": "5c0b3272",
   "metadata": {},
   "source": [
    "## Introduction: a new era of stellar age-dating.\n",
    "\n",
    "\n",
    "Stars, like most people, undergo their most dynamic changes during their infancy up to their adolescent years and then settle into adult life.\n",
    "\n",
    "They are almost always born in groups, out of the (mostly) gas and dust fragments in the sparse interstellar medium. Turbulence and pressure cause these cold clouds to contract, heat, eventually producing proto-stellar cores within the cloud that grow as they accrete material through along filamentary structures, generally taking no more than a few tens of kyr for stars between $0.5-1.0M_{\\odot}$. As the core contracts and heats to $T_{c}\\sim2000\\,{\\rm K}$, the first light emerges from the photodissociation of molecular hydrogen and the surrounding gas envelope is partially removed through radiative feedback.\n",
    "\n",
    "Further heating of the core results in a period of Deuterium burning ($T_{c}\\sim10^6\\,{\\rm K}$) which temporarily slows the contraction and modulates the core temperature for a few Myr, during which the star, now in its pre-main sequence, bulks up in mass. Lithium, an ephemeral element which has a strong spectral absorption feature in red light, and is often used as a youth indicator and stellar clock, is one of the next to burn around $T_{c}\\sim2.5\\,{\\rm MK}$. Eventually, the core reaches $T_{c}\\sim15\\,{\\rm MK}$ and Hydrogen fusion begins, with enough fuel to last several billions of years. This marks a phase of Hydrostatic equilibrium where Gravitational and radiative forces are balanced, and the star is said to be in its main sequence. \n",
    "\n",
    "What remains of the cloud that produced the young stars? In most cases, the stellar feedback, particularly from massive stars, removes the gas entirely from the star forming region, although in T-associations (clusters without massive progenitor stars) the gas sometimes forms further generations of young stars. The proto-stars and young pre-main sequence stars within a cloud usually begin with similar global kinematics, and are Gravitationally bound as a cluster. Most clusters don't make it past 100 Myr, some not even past a few Myr. Depending on the cloud mass, density and stellar interactions, dissipative forces scramble the kinematics and cause young clusters to disperse out into the field."
   ]
  },
  {
   "cell_type": "markdown",
   "id": "f690f577",
   "metadata": {},
   "source": [
    "## The Gaia Revolution\n",
    "\n",
    "### Back when MTV was cool there was HIPPARCOS... \n",
    "Once upon a time there was a satellite called *HIPPARCOS*, it was the creme-de-la-creme of 1990s astrometry.\n",
    "Hipparcos scanned the skies for stars brighter than apparent magnitudes of $V\\sim 12.5$, resulting in a catalogue of around 100,000 stars. We'll be dealing with stars with $M=0.5-1.0\\,M_{\\odot}$. From the HIPPARCOS data what is:\n",
    "\n",
    "* the distance limit at either end of the mass range?\n",
    "* the mass limit at 100pc (are there young clusters or associations within 100pc)?\n",
    "* the mass limit for **NGC2264, $\\gamma~$Vel** and **NGC2516** (three of the clusters we'll test in this work)?\n",
    "\n",
    "### A very quick look-back at previous Gaia releases\n",
    "Gaia was successfully launched from French Guyana in December 2013 and began collecting data in July 2014.\n",
    "\n",
    "DR1, released in September 2016 was a kind of trial run for astronomers using measurements of $\\sim2\\times10^{6}$ objects in the Tycho-2 catalogue to verify that the positions, proper-motions and parallaxes measurements (herein the 5-parameter solution) were making sense. Within a little over 2 years of collecting data, Gaia had improved the precision in each of the 5-parameter solutions by over 3 magnitude orders - a promising sign of things to come!\n",
    "\n",
    "In April 2018, DR2 changed the game. Its contents merely contained 1.3 billion stars as faint as $G=21$ with 5-parameter solutions with typical precision of $0.01-1$ milli-arcseconds and mmag-precision optical photometry, along with around 7 million radial velocity (RV) measurements to boot!\n",
    "\n",
    "By the time EDR3 came out in December 2020, there were 34 months of data, which led to $\\sim 30\\%$ improvements in the statistical errors, but more importantly EDR3 ironed out the minor underlying systematics that astronomers identified in DR2.\n",
    "\n",
    "### Now it's time for DR3!\n",
    "[Here's what we can expect](https://www.cosmos.esa.int/web/gaia/dr3)\n",
    "\n",
    "Personally I'm looking forward to seeing...\n",
    "* 4x more radial velocities (33 million objects)\n",
    "* object classification\n",
    "* Stellar parameters based on MCMC fitting to SEDs"
   ]
  },
  {
   "cell_type": "markdown",
   "id": "faa41cd8",
   "metadata": {},
   "source": [
    "## Isochronal age-dating\n",
    "### Using evolutionary models\n",
    "Evolutionary models predict physical stellar parameters (luminosity, temperature, chemical composition) by\n",
    "solving the stellar structure equations for a given mass and age. \n",
    "\n",
    "Evolutionary models predict physical stellar parameters -- luminosity ($L$), effective temperature ($T_{\\rm eff}$) and chemical composition -- by solving the stellar structure equations for a given mass and age. In order to test the models with cluster data, these parameters need to be turned into observables so they can be compared in the same plane. This requires conversion from the Hertzsprung-Russell diagram ($L$ versus $T_{\\rm eff}$) to the Colour-Magnitude Diagram (absolute $G$ versus $G-K_{\\rm s}$, for example).\n",
    "\n",
    "In principle, all we need to test isochronal models are:\n",
    "1. A set of observations of high-probability members of a given cluster. **How can we test cluster membership?**\n",
    "2. Photometry from a minimum of two filters. **What is a photometric filter?**\n",
    "3. Parallax measurements to convert apparent magnitude to absolute magnitude. **What's the equation for this?**\n",
    "\n",
    "### Before we begin (1): cluster reddening and extinction\n",
    "Turns out that space is dusty, especially when we look in directions that point towards nearby star forming regions. Therefore light that passes through dust gets scattered, and since blue photons are more affected, the light appears **redder**. One way astronomers try to de-redden star clusters is to spectroscopically measure their $T_{\\rm eff}$ and compare their photometry with synthetic SED templates that have no reddening. In this work we'll use $E(B-V)$ from literature sources that have measured reddening in this way.\n",
    "\n",
    "### Before we begin (2): what exactly are we fitting again?\n",
    "Evolutionary models predict the outputs for stars in isolation -- that is to say, single stars. We know from statistical surveys that as many as 1 in 2 stellar systems in clusters can be multiples, which are mainly binaries, but also a small percentage of triples and higher-order systems. For very nearby stars, or those on wide orbits, sometimes we have apriori knowledge of multiplcity status, but most of them in this work are unresolved multiples. **Given that an unresolved equal-mass binary system contributes double the flux, how brighter in magnitude do they appear?**"
   ]
  },
  {
   "cell_type": "markdown",
   "id": "8ac2e596",
   "metadata": {},
   "source": [
    "### The data set\n",
    "We'll be using high-probability cluster members observed during the Gaia ESO Survey (GES). This mission collected high-resolution spectroscopy for over 100,000 stars across the Milky Way, of which half were targetted as possible members of open clusters. The membership probabilities were calculated by comparing the 3D velocity of each candidate with the distribution observed in the cluster (based on the same GES observations), where radial velocity comes from GES ($\\sim$0.5km/s precision) and tangential velocities (in right ascension, $v_{\\alpha}$ and declination $v_{\\delta}$) are from Gaia EDR3. However, we will take optical photometry from Gaia DR2 because the transformation from the models to the observational plane are based on the DR2 system."
   ]
  },
  {
   "cell_type": "markdown",
   "id": "9df12d41",
   "metadata": {},
   "source": [
    "### The models\n",
    "We'll test two different \"flavours\". One uses the standard input physics and another is modified to account for magnetic activity, which is generally observed to be universally higher in young pre-MS stars.\n",
    "\n",
    "**Standard Models**\n",
    "* Baraffe et al. 2015\n",
    "* Dotter et al. 2008\n",
    "* SPOTS models (without spots)\n",
    "\n",
    "**Magnetic Models**\n",
    "* Feiden 2016\n",
    "* Two variants of the SPOTS models$^{*}$\n",
    "\n",
    "$^{*}$SPOTS models cover the surface of the star with dark spots, where the spot parameters are the spot-to-photosphere temperature ratio and the fraction of flux blocked by the spots."
   ]
  },
  {
   "cell_type": "markdown",
   "id": "39bb4667",
   "metadata": {},
   "source": [
    "# OK, let's go!"
   ]
  },
  {
   "cell_type": "markdown",
   "id": "2441d4cf",
   "metadata": {},
   "source": [
    "### First, read in the list of GES candidate members which contains the 3D membership probabilities\n",
    "This is available (for now) only as table 3 in the supplementary data provided in [Jackson et al. 2022](https://academic.oup.com/mnras/article/509/2/1664/6414548?login=true).\n",
    "\n",
    "Since Gaia is going offline during the week of the hackathon, I incorporated parallaxes and photometry into this table previously.\n",
    "\n",
    "### Then, read in a file containing the cluster properties.\n",
    "These include: Name, age, distance modulus, E(B-V) and number of objects used."
   ]
  },
  {
   "cell_type": "code",
   "execution_count": null,
   "id": "6609efc5",
   "metadata": {},
   "outputs": [],
   "source": [
    "from astropy.table import Table\n",
    "GES = Table.read(\"./data/table3_idr6_final_eDR3_DR2.csv\")\n",
    "Clus = Table.read(\"./data/table1.csv\")\n",
    "GES"
   ]
  },
  {
   "cell_type": "markdown",
   "id": "22093dc7",
   "metadata": {},
   "source": [
    "### Now we need to select our membership probability threshold.\n",
    "First let's look at the histogram of membership probabilities..."
   ]
  },
  {
   "cell_type": "code",
   "execution_count": null,
   "id": "4aa1580f",
   "metadata": {},
   "outputs": [],
   "source": [
    "import matplotlib.pyplot as plt\n",
    "%matplotlib inline\n",
    "plt.hist(GES[\"MEM3D\"])"
   ]
  },
  {
   "cell_type": "markdown",
   "id": "ff2bff44",
   "metadata": {},
   "source": [
    "Yikes! Objects with \"PMEM3D = -1\" were not considered in the membership analysis. Discard these and plot again!"
   ]
  },
  {
   "cell_type": "code",
   "execution_count": null,
   "id": "b69ab34c",
   "metadata": {},
   "outputs": [],
   "source": [
    "plt.hist(GES[GES[\"MEM3D\"]>=0.0][\"MEM3D\"])"
   ]
  },
  {
   "cell_type": "markdown",
   "id": "f471a657",
   "metadata": {},
   "source": [
    "Interesting, there's a bimodality between very likely contaminants and highly probable members. Try the histogram cut at 0.4."
   ]
  },
  {
   "cell_type": "code",
   "execution_count": null,
   "id": "fb1115bc",
   "metadata": {},
   "outputs": [],
   "source": [
    "import numpy as np\n",
    "plt.hist(GES[GES[\"MEM3D\"]>=0.4][\"MEM3D\"])"
   ]
  },
  {
   "cell_type": "markdown",
   "id": "e82a633e",
   "metadata": {},
   "source": [
    "Maybe 95% looks \"clean\". Let's see how many object we'd get in the entire table, then how many in each cluster."
   ]
  },
  {
   "cell_type": "code",
   "execution_count": null,
   "id": "ec7c83b2",
   "metadata": {},
   "outputs": [],
   "source": [
    "p_th = 0.95\n",
    "print(np.sum(GES[\"MEM3D\"]>p_th))\n",
    "fig, ax = plt.subplots(figsize=(8,8))\n",
    "plt.xticks(rotation='vertical')\n",
    "plt.ylabel(\"number of targets\")\n",
    "npass_arr = []\n",
    "for i in Clus[\"ClusName\"]:\n",
    "    c = (GES[\"CLUSTER\"]==i) & (GES[\"MEM3D\"]>p_th)\n",
    "    npass_arr.append(np.sum(c))\n",
    "    print(i, np.sum(c))\n",
    "    ax.bar(i, np.sum(c))"
   ]
  },
  {
   "cell_type": "markdown",
   "id": "80dd0054",
   "metadata": {},
   "source": [
    "For this exercise, let's just pick the clusters that have more than 100 members with membership probabilities higher than 95%."
   ]
  },
  {
   "cell_type": "code",
   "execution_count": null,
   "id": "727b78f9",
   "metadata": {},
   "outputs": [],
   "source": [
    "CGood = Clus[np.array(npass_arr) > 100]\n",
    "print(CGood[\"ClusName\"])\n",
    "GES_Pass = GES[((GES[\"MEM3D\"]>p_th) & np.isin(GES[\"CLUSTER\"], CGood[\"ClusName\"]))]\n",
    "print(f'We have {len(GES_Pass)} stars in {len(np.unique(GES_Pass[\"CLUSTER\"]))} clusters')"
   ]
  },
  {
   "cell_type": "markdown",
   "id": "6f1d0794",
   "metadata": {},
   "source": [
    "## Correcting for reddening/extinction\n",
    "Since we'll be comparing G versus G-Ks, we need an extinction relationship, one that converts the E(B-V) value into $A_{G}$ and $A_{K_{s}}$."
   ]
  },
  {
   "cell_type": "code",
   "execution_count": null,
   "id": "737f2244",
   "metadata": {},
   "outputs": [],
   "source": [
    "GES_Pass[\"A_G\"], GES_Pass[\"A_BP\"], GES_Pass[\"A_RP\"], GES_Pass[\"A_Ks\"], GES_Pass[\"d_mod\"] = 0., 0., 0., 0., 0.\n",
    "\n",
    "for i, c in enumerate(CGood[\"ClusName\"]):\n",
    "    g = np.where(GES_Pass[\"CLUSTER\"] == c)\n",
    "    EBV = CGood[\"EBV_lit\"][i]\n",
    "    AV = 3.09*EBV\n",
    "#    GES_Pass[\"A_G\"][g]  = AV*((21.- GES_Pass[\"Gmag_DR2\"][g]-GES_Pass[\"KMAGP\"][g]-0.078*AV)/(25. - AV))\n",
    "    GES_Pass[\"A_G\"][g]  = 0.789*AV\n",
    "    GES_Pass[\"A_BP\"][g] = 1.002*AV\n",
    "    GES_Pass[\"A_RP\"][g] = 0.589*AV\n",
    "    GES_Pass[\"A_Ks\"][g] = 0.078*AV\n",
    "    GES_Pass[\"d_mod\"][g] = CGood[\"mM_J22\"][i]\n",
    "    \n",
    "GES_Pass[\"Gmag_0\"] = GES_Pass[\"Gmag_DR2\"] - GES_Pass[\"A_G\"]\n",
    "GES_Pass[\"BPRP_0\"] = GES_Pass[\"BPmag_DR2\"]-GES_Pass[\"RPmag_DR2\"] - (GES_Pass[\"A_BP\"] - GES_Pass[\"A_RP\"])\n",
    "GES_Pass[\"GKs_0\"]  = GES_Pass[\"Gmag_DR2\"]-GES_Pass[\"KMAGP\"] - (GES_Pass[\"A_G\"] - GES_Pass[\"A_Ks\"])"
   ]
  },
  {
   "cell_type": "code",
   "execution_count": null,
   "id": "71372e64",
   "metadata": {},
   "outputs": [],
   "source": [
    "GES_Pass.sort('CLUSTER')"
   ]
  },
  {
   "cell_type": "code",
   "execution_count": null,
   "id": "de9f7179",
   "metadata": {},
   "outputs": [],
   "source": [
    "fig = plt.figure(figsize=(20,10))\n",
    "\n",
    "ax1 = fig.add_subplot(121)\n",
    "ax2 = fig.add_subplot(122)\n",
    "\n",
    "ax1.set_ylim(12,-2)\n",
    "ax2.set_ylim(12,-2)\n",
    "ax1.fontsize=20\n",
    "ax1.set_ylabel(\"G$_{0}$ mag\", fontsize=18)\n",
    "ax1.set_xlabel(\"($G-K_{s})_0$\", fontsize=18)\n",
    "ax2.set_xlabel(\"($G_{BP}-G_{RP})_0$\", fontsize=18)\n",
    "ax1.grid(), ax2.grid()\n",
    "for i in CGood[\"ClusName\"]:\n",
    "    g = GES_Pass[\"CLUSTER\"] == i\n",
    "    ax1.scatter(GES_Pass[\"GKs_0\"][g],  GES_Pass[\"Gmag_0\"][g]-GES_Pass[\"d_mod\"][g], label=i)\n",
    "    ax2.scatter(GES_Pass[\"BPRP_0\"][g], GES_Pass[\"Gmag_0\"][g]-GES_Pass[\"d_mod\"][g])\n",
    "\n",
    "ax1.legend(fontsize=12)\n",
    "plt.show()\n",
    "\n",
    "# We should probably set another column for $M_G$, the \"absolute\" magnitude\n",
    "\n",
    "GES_Pass[\"M_G\"] = GES_Pass[\"Gmag_0\"] - GES_Pass[\"d_mod\"]\n"
   ]
  },
  {
   "cell_type": "markdown",
   "id": "83b5f534",
   "metadata": {},
   "source": [
    "## Some last \"cleaning steps\"\n",
    "### 1. Choose only G5 - M5 stars\n",
    "This is because higher-mass stars which have arrived on the main sequence reduce the power in discriminating young stars from their older counterparts. For example, a solar-like G2V star hits the main sequence after 30 Myr.\n",
    "\n",
    "According to [Eric Mamajek's Color/Teff interpolation table](http://www.pas.rochester.edu/~emamajek/EEM_dwarf_UBVIJHK_colors_Teff.txt) this is:\n",
    "\n",
    "0.850 < BP-RP < 3.710\n",
    "\n",
    "1.456 < G-Ks  < 4.250\n",
    "\n",
    "### Try to clip out giants (with $M_G<0$)\n",
    "\n",
    "But remember to keep these as two separate datasets, one for $M_G/(G-K_{s})$, another for $M_G/(BP-RP)$."
   ]
  },
  {
   "cell_type": "code",
   "execution_count": null,
   "id": "208d3851",
   "metadata": {},
   "outputs": [],
   "source": [
    "GES_Pass_GKs  = GES_Pass[(GES_Pass[\"M_G\"]>0) & (GES_Pass[\"GKs_0\"] > 1.456)  & (GES_Pass[\"GKs_0\"] < 4.250)]\n",
    "GES_Pass_BPRP = GES_Pass[(GES_Pass[\"M_G\"]>0) & (GES_Pass[\"BPRP_0\"] > 0.850) & (GES_Pass[\"BPRP_0\"] < 3.710)]"
   ]
  },
  {
   "cell_type": "markdown",
   "id": "59caf465",
   "metadata": {},
   "source": [
    "## Selecting single stars\n",
    "Since the models are designed to fit single stars, we select the fainter half of cluster members in a sequence.\n",
    "To do this we fit a 2nd, 3rd and 4th polynomial through the CMD, find the order that results in the best (lowest $\\chi^{2}$ fit) and then select targets that lie below this locus."
   ]
  },
  {
   "cell_type": "code",
   "execution_count": null,
   "id": "934e9fdc",
   "metadata": {},
   "outputs": [],
   "source": [
    "pol = 0\n",
    "def make_poly(x,y,f):\n",
    "    pol = []\n",
    "    for i, c in enumerate(CGood[\"ClusName\"]):\n",
    "        g = np.where(f[\"CLUSTER\"] == c)[0]\n",
    "        if len(g) != 0:\n",
    "            orders = np.arange(1,5,1)\n",
    "#            orders = np.arange(2,3,1)\n",
    "            chi2 = []\n",
    "            for order in orders:\n",
    "                p = np.polyfit(x[g], y[g], order)\n",
    "                chi2.append(np.sum((np.polyval(p, x[g]) - y[g]) ** 2)/(len(g)-(order+1)))\n",
    "            pol.append(np.polyfit(x[g], y[g], orders[np.argmin(chi2)]))\n",
    "        else:\n",
    "            pol.append(np.array([0]))\n",
    "    return pol\n",
    "\n",
    "cx = []\n",
    "for c in CGood[\"ClusName\"]:\n",
    "    cx.append(c)\n",
    "\n",
    "pol_GKs  = make_poly(GES_Pass_GKs[\"GKs_0\"], GES_Pass_GKs[\"M_G\"], GES_Pass_GKs)\n",
    "pol_BPRP = make_poly(GES_Pass_BPRP[\"BPRP_0\"], GES_Pass_BPRP[\"M_G\"], GES_Pass_BPRP)"
   ]
  },
  {
   "cell_type": "code",
   "execution_count": null,
   "id": "1b0ac86c",
   "metadata": {},
   "outputs": [],
   "source": [
    "GES_Pass_GKs[\"bflag\"], GES_Pass_BPRP[\"bflag\"] = 1, 1\n",
    "\n",
    "def select_singles(x,y,f,p):\n",
    "    k = 0\n",
    "    for i, c in enumerate(CGood[\"ClusName\"]):\n",
    "        g = np.where(f[\"CLUSTER\"] == c)[0]\n",
    "        if len(p[i]) > 1:\n",
    "            print(cx[i], p[i], g[0], g)\n",
    "            z = np.array([g[0] + np.where(np.polyval(p[i], x[g]) - y[g] > 0)]).ravel()\n",
    "            f[\"bflag\"][z] = 2\n",
    "        elif len(p[i]) == 1:\n",
    "            print(c, 'x')\n",
    "            f[\"bflag\"][g] = 0\n",
    "            k = k+1\n",
    "select_singles(GES_Pass_GKs[\"GKs_0\"], GES_Pass_GKs[\"M_G\"], GES_Pass_GKs, pol_GKs)\n",
    "select_singles(GES_Pass_BPRP[\"BPRP_0\"], GES_Pass_BPRP[\"M_G\"], GES_Pass_BPRP, pol_BPRP)"
   ]
  },
  {
   "cell_type": "code",
   "execution_count": null,
   "id": "a4791f9b",
   "metadata": {},
   "outputs": [],
   "source": [
    "GES_Pass_GKs  = GES_Pass_GKs[GES_Pass_GKs[\"bflag\"] != 0]\n",
    "GES_Pass_BPRP = GES_Pass_BPRP[GES_Pass_BPRP[\"bflag\"] != 0]\n",
    "print(\"GKs Clusters\")\n",
    "for i in np.unique(GES_Pass_GKs[\"CLUSTER\"]):\n",
    "    print(i, len(GES_Pass_GKs[((GES_Pass_GKs[\"CLUSTER\"]==i) & (GES_Pass_GKs[\"bflag\"]==1))]))\n",
    "\n",
    "print(\"\\n\"*2)\n",
    "print(\"BPRP Clusters\")\n",
    "for i in np.unique(GES_Pass_BPRP[\"CLUSTER\"]):\n",
    "    print(i, len(GES_Pass_BPRP[((GES_Pass_BPRP[\"CLUSTER\"]==i) & (GES_Pass_BPRP[\"bflag\"]==1))]))\n",
    "print(\"\\n\"*2)\n",
    "for i in np.unique(GES_Pass_BPRP[\"CLUSTER\"]):\n",
    "    print(i, len(GES_Pass_BPRP[((GES_Pass_BPRP[\"CLUSTER\"]==i))]))"
   ]
  },
  {
   "cell_type": "code",
   "execution_count": null,
   "id": "6a5d7eef",
   "metadata": {},
   "outputs": [],
   "source": [
    "GES_Final_GKs  = GES_Pass_GKs\n",
    "GES_Final_BPRP = GES_Pass_BPRP\n",
    "\n",
    "def remove_low_popn(f):\n",
    "    x = np.array([f[f[\"CLUSTER\"] == i][\"CNAME\"]\n",
    "                  for i in np.unique(f[\"CLUSTER\"])\n",
    "                  if len(f[((f[\"CLUSTER\"]==i) & (f[\"bflag\"]==1))])<10], dtype=object)\n",
    "    for i in range(len(x)):\n",
    "        print(x)\n",
    "        if len(x)>1:\n",
    "            for j in range(len(x[i].data)):\n",
    "                z = np.where([f[\"CNAME\"] == str(x[i].data[j])])\n",
    "                f.remove_rows([z[1]])\n",
    "        else:\n",
    "            for j in x.ravel():\n",
    "                print(j, len(x))\n",
    "                z = np.where([f[\"CNAME\"] == str(j)])\n",
    "                f.remove_rows([z[1]])\n",
    "\n",
    "zap = remove_low_popn(GES_Final_GKs)\n",
    "zap = remove_low_popn(GES_Final_BPRP)\n",
    "\n",
    "\n",
    "pol_GKs_f  = []\n",
    "pol_BPRP_f = []\n",
    "print(\"GKs Clusters\")\n",
    "for i in np.unique(GES_Final_GKs[\"CLUSTER\"]):\n",
    "    if i in cx:\n",
    "        pol_GKs_f.append(pol_GKs[np.where(np.array(cx)==i)[0][0]])\n",
    "    print(i, len(GES_Final_GKs[((GES_Final_GKs[\"CLUSTER\"]==i) & (GES_Final_GKs[\"bflag\"]==1))]))\n",
    "print(\"\\n\"*2)\n",
    "\n",
    "print(\"BPRP Clusters\")\n",
    "for i in np.unique(GES_Final_BPRP[\"CLUSTER\"]):\n",
    "    if i in cx:\n",
    "        pol_BPRP_f.append(pol_BPRP[np.where(np.array(cx)==i)[0][0]])\n",
    "    print(i, len(GES_Final_BPRP[((GES_Final_BPRP[\"CLUSTER\"]==i) & (GES_Final_BPRP[\"bflag\"]==1))]))"
   ]
  },
  {
   "cell_type": "code",
   "execution_count": null,
   "id": "fc57f2e0",
   "metadata": {
    "scrolled": false
   },
   "outputs": [],
   "source": [
    "def make_plots_single_stars(f, CMD, pol):\n",
    "    for h, i in enumerate(np.unique(f[\"CLUSTER\"])):\n",
    "        s = ((f[\"CLUSTER\"] == i) & (f[\"bflag\"] == 1))\n",
    "        b = ((f[\"CLUSTER\"] == i) & (f[\"bflag\"] == 2))\n",
    "        fig, ax = plt.subplots(figsize=(10,10))\n",
    "        ax.set_ylim(max(f[s][\"M_G\"])+1,min(f[s][\"M_G\"])-1)\n",
    "        ax.fontsize=20\n",
    "        ax.set_ylabel(\"G$_{0}$ mag\", fontsize=18)\n",
    "        ax.set_xlabel(CMD[0], fontsize=18)\n",
    "        ax.grid()\n",
    "        xl = np.linspace(min(f[s][CMD[1]]), max(f[s][CMD[1]]), 100)\n",
    "        ax.plot(xl, np.polyval(pol[h], xl))\n",
    "        ax.text(0.05, 0.05, i, transform=ax.transAxes, fontsize=18)\n",
    "        ax.scatter(f[s][CMD[1]], f[s][\"M_G\"], label='single')\n",
    "        ax.scatter(f[b][CMD[1]], f[b][\"M_G\"], label='multiple')\n",
    "        ax.legend(fontsize=12)\n",
    "        plt.show()\n",
    "\n",
    "\n",
    "CMD1 = [\"($G-K_{s})_0$\", \"GKs_0\"]\n",
    "CMD2 = [\"($BP-RP)_0$\", \"BPRP_0\"]\n",
    "make_plots_single_stars(GES_Final_GKs, CMD1, pol_GKs_f)\n",
    "make_plots_single_stars(GES_Final_BPRP, CMD2, pol_BPRP_f)\n"
   ]
  },
  {
   "cell_type": "markdown",
   "id": "ffa03f28",
   "metadata": {},
   "source": [
    "## Now we're ready to test some models - and estimate some cluster ages!"
   ]
  },
  {
   "cell_type": "code",
   "execution_count": null,
   "id": "1e850161",
   "metadata": {
    "scrolled": true
   },
   "outputs": [],
   "source": [
    "def test_iso(data, col, model, CMD, mag, age, mod_name):\n",
    "    chi2_m = []\n",
    "    for i in np.unique(data[\"CLUSTER\"]):\n",
    "        d_in = data[(data[\"CLUSTER\"] == i) & (data[\"bflag\"]==1)]\n",
    "        chi2_0 = 0\n",
    "        chi2_a = []\n",
    "        k=0\n",
    "        model = model[model[age] % 0.5 == 0]\n",
    "\n",
    "        for j in np.unique(model[age]):\n",
    "            x_age = model[age] == j\n",
    "            mincol_age, maxcol_age = min(model[x_age][CMD]), max(model[x_age][CMD])\n",
    "            g = (d_in[col] > mincol_age) & (d_in[col] < maxcol_age)\n",
    "            x, y = model[x_age][CMD], model[x_age][mag]\n",
    "            f = interp1d(x, y, kind='linear')\n",
    "            x_int = d_in[col][g]\n",
    "            y_int = f(x_int)\n",
    "            chi2_r = np.sum((y_int - d_in[\"M_G\"][g])**2/(len(g)-1))\n",
    "            chi2_a.append([chi2_r, j, i, mod_name])           \n",
    "            print(i, j, chi2_r)\n",
    "            if chi2_r > chi2_0:\n",
    "                k=k+1\n",
    "                if k > 10:\n",
    "                    break\n",
    "            else:\n",
    "                k=0\n",
    "            chi2_0 = chi2_r\n",
    "        chi2_a = np.array(chi2_a)\n",
    "        chi2_m.append(chi2_a[np.argmin(chi2_a[0:,0])])\n",
    "    return chi2_m\n",
    "\n",
    "\n",
    "import glob\n",
    "from scipy.interpolate import interp1d\n",
    "\n",
    "\n",
    "model_list = glob.glob(\"./models/*.iso\")\n",
    "\n",
    "\n",
    "G_mod    = [\"Gmag\", \"Gmag_int\", \"G_int\", \"absG\"]\n",
    "GKs_mod  = [\"GKs\", \"GKs_int\", \"GKs_int\", \"GKs\"]\n",
    "BPRP_mod = [\"BPRP\", \"BPRP_in\", \"BPRP_int\", \"BPRP\"]\n",
    "age      = ['agemod', 'agemod', 'agemod', 'age']\n",
    "\n",
    "res_GKs = []\n",
    "for i, x in enumerate(model_list):\n",
    "    print(i, x)\n",
    "    model = Table.read(x, format='ascii')\n",
    "    if x == model_list[0]:\n",
    "        model[\"GKs\"] = model[\"Gmag\"]-model[\"Ksmag\"]\n",
    "        model[\"BPRP\"] = model[\"BPmag\"]-model[\"RPmag\"]\n",
    "    if x == model_list[3]:\n",
    "        model = model[model[\"beta\"]==0.3]\n",
    "    res_GKs.append(test_iso(GES_Final_GKs, \"GKs_0\", model, GKs_mod[i], G_mod[i], age[i], i))"
   ]
  },
  {
   "cell_type": "code",
   "execution_count": null,
   "id": "19cf7df9",
   "metadata": {
    "scrolled": false
   },
   "outputs": [],
   "source": [
    "res_GKs = np.array(res)\n",
    "print(res_GKs.shape)\n",
    "print(res_GKs[0:,0:,2])\n",
    "\n",
    "print(model_list, GKs_mod)\n",
    "\n",
    "\n",
    "\n",
    "def plot_models(f, CMD, res_mod, list_mod, col_mod, mag_mod, age):\n",
    "    for h, i in enumerate(np.unique(f[\"CLUSTER\"])):\n",
    "        s = ((f[\"CLUSTER\"] == i) & (f[\"bflag\"] == 1))\n",
    "        b = ((f[\"CLUSTER\"] == i) & (f[\"bflag\"] == 2))\n",
    "        g = res_mod[res_mod[0:,0:,2] == i]\n",
    "        fig, ax = plt.subplots(figsize=(10,10))\n",
    "        ax.set_ylim(max(f[s][\"M_G\"])+1,min(f[s][\"M_G\"])-1)\n",
    "        ax.fontsize=20\n",
    "        ax.set_ylabel(\"G$_{0}$ mag\", fontsize=18)\n",
    "        ax.set_xlabel(CMD[0], fontsize=18)\n",
    "        ax.grid()\n",
    "        ax.text(0.05, 0.05, i, transform=ax.transAxes, fontsize=18)\n",
    "        ax.scatter(f[s][CMD[1]], f[s][\"M_G\"], label='single')\n",
    "        ax.scatter(f[b][CMD[1]], f[b][\"M_G\"], label='multiple')\n",
    "        G_mod    = [\"Gmag\", \"Gmag_int\", \"G_int\", \"absG\"]\n",
    "        GKs_mod  = [\"GKs\", \"GKs_int\", \"GKs_int\", \"GKs\"]\n",
    "        for k, z in enumerate(g):\n",
    "            p = Table.read(model_list[k], format='ascii')\n",
    "            p[age[k]].dtype = float\n",
    "            z_x = z[1].astype(float)\n",
    "            print(z, z[1], type(z[1]), type(z_x))\n",
    "            if (k > 0):\n",
    "                if k < 3:\n",
    "                    m_plot = p[p[age[k]] == z_x]\n",
    "                if k == 3:\n",
    "                    m_plot = p[(p[age[k]] == z_x) & (p[\"beta\"] == 0.3)]\n",
    "                print(m_plot[GKs_mod[k]], m_plot[G_mod[k]])\n",
    "                ax.plot(m_plot[GKs_mod[k]], m_plot[G_mod[k]])\n",
    "#            print(type(z_x))\n",
    "#            print(p[age[k]].dtype, z[1].dtype)\n",
    "#            print(p[p[float(age[k]) < 1.1]])#, z[1])\n",
    "#            print(p[age[k]].dtype)\n",
    "#            p_x = p[age[k]]# == z_x]\n",
    "#            print(p_x)\n",
    "#            print(k, p[p[age[k]] == z[1]])\n",
    "        ax.legend(fontsize=12)\n",
    "    \n",
    "        plt.show()\n",
    "\n",
    "\n",
    "CMD1 = [\"($G-K_{s})_0$\", \"GKs_0\"]\n",
    "CMD2 = [\"($BP-RP)_0$\", \"BPRP_0\"]\n",
    "plot_models(GES_Final_GKs, CMD1, res_GKs, model_list, GKs_mod, G_mod, age)\n",
    "#make_plots_single_stars(GES_Final_BPRP, CMD2, pol_BPRP_f)\n"
   ]
  }
 ],
 "metadata": {
  "kernelspec": {
   "display_name": "Python 3 (ipykernel)",
   "language": "python",
   "name": "python3"
  },
  "language_info": {
   "codemirror_mode": {
    "name": "ipython",
    "version": 3
   },
   "file_extension": ".py",
   "mimetype": "text/x-python",
   "name": "python",
   "nbconvert_exporter": "python",
   "pygments_lexer": "ipython3",
   "version": "3.9.7"
  }
 },
 "nbformat": 4,
 "nbformat_minor": 5
}
